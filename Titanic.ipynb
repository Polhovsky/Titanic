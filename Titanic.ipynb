{
 "cells": [
  {
   "cell_type": "code",
   "execution_count": 40,
   "metadata": {
    "scrolled": true
   },
   "outputs": [
    {
     "data": {
      "text/html": [
       "<div>\n",
       "<style>\n",
       "    .dataframe thead tr:only-child th {\n",
       "        text-align: right;\n",
       "    }\n",
       "\n",
       "    .dataframe thead th {\n",
       "        text-align: left;\n",
       "    }\n",
       "\n",
       "    .dataframe tbody tr th {\n",
       "        vertical-align: top;\n",
       "    }\n",
       "</style>\n",
       "<table border=\"1\" class=\"dataframe\">\n",
       "  <thead>\n",
       "    <tr style=\"text-align: right;\">\n",
       "      <th></th>\n",
       "      <th>PassengerId</th>\n",
       "      <th>Survived</th>\n",
       "      <th>Pclass</th>\n",
       "      <th>Name</th>\n",
       "      <th>Sex</th>\n",
       "      <th>Age</th>\n",
       "      <th>SibSp</th>\n",
       "      <th>Parch</th>\n",
       "      <th>Ticket</th>\n",
       "      <th>Fare</th>\n",
       "      <th>Cabin</th>\n",
       "      <th>Embarked</th>\n",
       "    </tr>\n",
       "  </thead>\n",
       "  <tbody>\n",
       "    <tr>\n",
       "      <th>0</th>\n",
       "      <td>1</td>\n",
       "      <td>0</td>\n",
       "      <td>3</td>\n",
       "      <td>Braund, Mr. Owen Harris</td>\n",
       "      <td>male</td>\n",
       "      <td>22.0</td>\n",
       "      <td>1</td>\n",
       "      <td>0</td>\n",
       "      <td>A/5 21171</td>\n",
       "      <td>7.2500</td>\n",
       "      <td>NaN</td>\n",
       "      <td>S</td>\n",
       "    </tr>\n",
       "    <tr>\n",
       "      <th>1</th>\n",
       "      <td>2</td>\n",
       "      <td>1</td>\n",
       "      <td>1</td>\n",
       "      <td>Cumings, Mrs. John Bradley (Florence Briggs Th...</td>\n",
       "      <td>female</td>\n",
       "      <td>38.0</td>\n",
       "      <td>1</td>\n",
       "      <td>0</td>\n",
       "      <td>PC 17599</td>\n",
       "      <td>71.2833</td>\n",
       "      <td>C85</td>\n",
       "      <td>C</td>\n",
       "    </tr>\n",
       "    <tr>\n",
       "      <th>2</th>\n",
       "      <td>3</td>\n",
       "      <td>1</td>\n",
       "      <td>3</td>\n",
       "      <td>Heikkinen, Miss. Laina</td>\n",
       "      <td>female</td>\n",
       "      <td>26.0</td>\n",
       "      <td>0</td>\n",
       "      <td>0</td>\n",
       "      <td>STON/O2. 3101282</td>\n",
       "      <td>7.9250</td>\n",
       "      <td>NaN</td>\n",
       "      <td>S</td>\n",
       "    </tr>\n",
       "    <tr>\n",
       "      <th>3</th>\n",
       "      <td>4</td>\n",
       "      <td>1</td>\n",
       "      <td>1</td>\n",
       "      <td>Futrelle, Mrs. Jacques Heath (Lily May Peel)</td>\n",
       "      <td>female</td>\n",
       "      <td>35.0</td>\n",
       "      <td>1</td>\n",
       "      <td>0</td>\n",
       "      <td>113803</td>\n",
       "      <td>53.1000</td>\n",
       "      <td>C123</td>\n",
       "      <td>S</td>\n",
       "    </tr>\n",
       "    <tr>\n",
       "      <th>4</th>\n",
       "      <td>5</td>\n",
       "      <td>0</td>\n",
       "      <td>3</td>\n",
       "      <td>Allen, Mr. William Henry</td>\n",
       "      <td>male</td>\n",
       "      <td>35.0</td>\n",
       "      <td>0</td>\n",
       "      <td>0</td>\n",
       "      <td>373450</td>\n",
       "      <td>8.0500</td>\n",
       "      <td>NaN</td>\n",
       "      <td>S</td>\n",
       "    </tr>\n",
       "  </tbody>\n",
       "</table>\n",
       "</div>"
      ],
      "text/plain": [
       "   PassengerId  Survived  Pclass  \\\n",
       "0            1         0       3   \n",
       "1            2         1       1   \n",
       "2            3         1       3   \n",
       "3            4         1       1   \n",
       "4            5         0       3   \n",
       "\n",
       "                                                Name     Sex   Age  SibSp  \\\n",
       "0                            Braund, Mr. Owen Harris    male  22.0      1   \n",
       "1  Cumings, Mrs. John Bradley (Florence Briggs Th...  female  38.0      1   \n",
       "2                             Heikkinen, Miss. Laina  female  26.0      0   \n",
       "3       Futrelle, Mrs. Jacques Heath (Lily May Peel)  female  35.0      1   \n",
       "4                           Allen, Mr. William Henry    male  35.0      0   \n",
       "\n",
       "   Parch            Ticket     Fare Cabin Embarked  \n",
       "0      0         A/5 21171   7.2500   NaN        S  \n",
       "1      0          PC 17599  71.2833   C85        C  \n",
       "2      0  STON/O2. 3101282   7.9250   NaN        S  \n",
       "3      0            113803  53.1000  C123        S  \n",
       "4      0            373450   8.0500   NaN        S  "
      ]
     },
     "execution_count": 40,
     "metadata": {},
     "output_type": "execute_result"
    }
   ],
   "source": [
    "# Kaggle - Titanic\n",
    "import pandas as pd\n",
    "import numpy as np\n",
    "from matplotlib import pyplot as plt\n",
    "\n",
    "df_train = pd.read_csv('data/train.csv')\n",
    "df_train.head()"
   ]
  },
  {
   "cell_type": "code",
   "execution_count": 41,
   "metadata": {
    "scrolled": true
   },
   "outputs": [
    {
     "name": "stdout",
     "output_type": "stream",
     "text": [
      "<class 'pandas.core.frame.DataFrame'>\n",
      "RangeIndex: 891 entries, 0 to 890\n",
      "Data columns (total 12 columns):\n",
      "PassengerId    891 non-null int64\n",
      "Survived       891 non-null int64\n",
      "Pclass         891 non-null int64\n",
      "Name           891 non-null object\n",
      "Sex            891 non-null object\n",
      "Age            714 non-null float64\n",
      "SibSp          891 non-null int64\n",
      "Parch          891 non-null int64\n",
      "Ticket         891 non-null object\n",
      "Fare           891 non-null float64\n",
      "Cabin          204 non-null object\n",
      "Embarked       889 non-null object\n",
      "dtypes: float64(2), int64(5), object(5)\n",
      "memory usage: 83.6+ KB\n"
     ]
    }
   ],
   "source": [
    "df_train.info()"
   ]
  },
  {
   "cell_type": "code",
   "execution_count": 42,
   "metadata": {
    "collapsed": true
   },
   "outputs": [],
   "source": [
    "# extract title from the name\n",
    "def substrings_in_string(big_string, substrings):\n",
    "    for substring in substrings:\n",
    "        if big_string.find(substring) != -1:\n",
    "            return substring\n",
    "    return np.nan\n",
    "\n",
    "title_list = ['Mrs', 'Mr', 'Master', 'Miss', 'Major', 'Lady', 'Rev', 'Dr', 'Ms', 'Mlle', 'Col', 'Capt', 'Sir', 'Mme', 'Countess', 'Don', 'Dona', 'Jonkheer']\n",
    "\n",
    "df_train['Title'] = df_train['Name'].map(lambda x: substrings_in_string(x, title_list))\n",
    "\n",
    "# replacing all titles with mr, officer, royalty, mrs, miss and master\n",
    "def replace_titles(x):\n",
    "    title = x['Title']\n",
    "    if title in ['Mr']:\n",
    "        return 'Mr'\n",
    "    elif title in ['Major', 'Capt', 'Col', 'Rev', 'Dr']:\n",
    "        return 'Officer'\n",
    "    elif title in ['Don', 'Dona', 'Jonkheer', 'Countess', 'Sir', 'Lady']:\n",
    "        return 'Royalty'\n",
    "    elif title in ['Mrs', 'Ms', 'Mme']:\n",
    "        return 'Mrs'\n",
    "    elif title in ['Miss', 'Mlle']:\n",
    "        return 'Miss'\n",
    "    elif title in ['Master']:\n",
    "        return 'Master'\n",
    "    else:\n",
    "        return title\n",
    "    \n",
    "df_train['Title'] = df_train.apply(replace_titles, axis = 1)"
   ]
  },
  {
   "cell_type": "code",
   "execution_count": 43,
   "metadata": {
    "scrolled": true
   },
   "outputs": [
    {
     "data": {
      "image/png": "[encoded data removed]",
      "text/plain": [
       "<matplotlib.figure.Figure at 0x25ead358518>"
      ]
     },
     "metadata": {},
     "output_type": "display_data"
    }
   ],
   "source": [
    "figure = plt.figure(figsize = (15, 5))\n",
    "\n",
    "df_train.groupby('Title').mean()['Survived'].plot(kind = 'bar')\n",
    "\n",
    "X = np.arange(6)\n",
    "Y = np.array(df_train.groupby('Title').mean()['Survived'].fillna(0))\n",
    "Z = np.array(pd.DataFrame(df_train['Title'].value_counts()).sort_index(ascending = True))\n",
    "\n",
    "ax = plt.gca()\n",
    "\n",
    "for a, b, c in zip(X, Y, Z): \n",
    "    plt.text(a, b + 0.05, str(c), ha = 'center', va = 'center')\n",
    "\n",
    "plt.ylim(0, 1)\n",
    "yticks_major = np.round(np.linspace(0, 1, 11), 1)\n",
    "yticks_major_str = (yticks_major * 100).astype(int).astype(str).tolist()\n",
    "yticks_labels = [x + ' %' for x in yticks_major_str]\n",
    "ax.set_yticks(yticks_major)\n",
    "ax.set_yticklabels(yticks_labels, fontsize = 10)\n",
    "\n",
    "plt.xlabel('Title')\n",
    "plt.ylabel('Survival rate')\n",
    "plt.show()"
   ]
  },
  {
   "cell_type": "markdown",
   "metadata": {},
   "source": [
    "* Mrs and Miss (women) have higher survival rates than most other titles, Master (kids) have a relatively high survival rate too"
   ]
  },
  {
   "cell_type": "code",
   "execution_count": 44,
   "metadata": {
    "scrolled": true
   },
   "outputs": [
    {
     "data": {
      "text/plain": [
       "Title\n",
       "Master     0.575000\n",
       "Miss       0.701657\n",
       "Mr         0.158301\n",
       "Mrs        0.793893\n",
       "Officer    0.277778\n",
       "Royalty    0.333333\n",
       "Name: Survived, dtype: float64"
      ]
     },
     "execution_count": 44,
     "metadata": {},
     "output_type": "execute_result"
    }
   ],
   "source": [
    "df_train.groupby('Title').mean()['Survived']"
   ]
  },
  {
   "cell_type": "code",
   "execution_count": 45,
   "metadata": {},
   "outputs": [
    {
     "data": {
      "text/plain": [
       "NaN      177\n",
       " 24.0     30\n",
       " 22.0     27\n",
       " 18.0     26\n",
       " 28.0     25\n",
       "Name: Age, dtype: int64"
      ]
     },
     "execution_count": 45,
     "metadata": {},
     "output_type": "execute_result"
    }
   ],
   "source": [
    "df_train['Age'].value_counts(dropna = False).head()"
   ]
  },
  {
   "cell_type": "code",
   "execution_count": 46,
   "metadata": {},
   "outputs": [
    {
     "data": {
      "text/html": [
       "<div>\n",
       "<style>\n",
       "    .dataframe thead tr:only-child th {\n",
       "        text-align: right;\n",
       "    }\n",
       "\n",
       "    .dataframe thead th {\n",
       "        text-align: left;\n",
       "    }\n",
       "\n",
       "    .dataframe tbody tr th {\n",
       "        vertical-align: top;\n",
       "    }\n",
       "</style>\n",
       "<table border=\"1\" class=\"dataframe\">\n",
       "  <thead>\n",
       "    <tr style=\"text-align: right;\">\n",
       "      <th></th>\n",
       "      <th></th>\n",
       "      <th></th>\n",
       "      <th>Age</th>\n",
       "    </tr>\n",
       "    <tr>\n",
       "      <th>Sex</th>\n",
       "      <th>Pclass</th>\n",
       "      <th>Title</th>\n",
       "      <th></th>\n",
       "    </tr>\n",
       "  </thead>\n",
       "  <tbody>\n",
       "    <tr>\n",
       "      <th rowspan=\"8\" valign=\"top\">female</th>\n",
       "      <th rowspan=\"4\" valign=\"top\">1</th>\n",
       "      <th>Miss</th>\n",
       "      <td>29.869565</td>\n",
       "    </tr>\n",
       "    <tr>\n",
       "      <th>Mrs</th>\n",
       "      <td>40.162162</td>\n",
       "    </tr>\n",
       "    <tr>\n",
       "      <th>Officer</th>\n",
       "      <td>49.000000</td>\n",
       "    </tr>\n",
       "    <tr>\n",
       "      <th>Royalty</th>\n",
       "      <td>33.000000</td>\n",
       "    </tr>\n",
       "    <tr>\n",
       "      <th rowspan=\"2\" valign=\"top\">2</th>\n",
       "      <th>Miss</th>\n",
       "      <td>22.450000</td>\n",
       "    </tr>\n",
       "    <tr>\n",
       "      <th>Mrs</th>\n",
       "      <td>33.000000</td>\n",
       "    </tr>\n",
       "    <tr>\n",
       "      <th rowspan=\"2\" valign=\"top\">3</th>\n",
       "      <th>Miss</th>\n",
       "      <td>16.123188</td>\n",
       "    </tr>\n",
       "    <tr>\n",
       "      <th>Mrs</th>\n",
       "      <td>33.515152</td>\n",
       "    </tr>\n",
       "    <tr>\n",
       "      <th rowspan=\"9\" valign=\"top\">male</th>\n",
       "      <th rowspan=\"4\" valign=\"top\">1</th>\n",
       "      <th>Master</th>\n",
       "      <td>5.306667</td>\n",
       "    </tr>\n",
       "    <tr>\n",
       "      <th>Mr</th>\n",
       "      <td>41.664773</td>\n",
       "    </tr>\n",
       "    <tr>\n",
       "      <th>Officer</th>\n",
       "      <td>51.125000</td>\n",
       "    </tr>\n",
       "    <tr>\n",
       "      <th>Royalty</th>\n",
       "      <td>39.000000</td>\n",
       "    </tr>\n",
       "    <tr>\n",
       "      <th rowspan=\"3\" valign=\"top\">2</th>\n",
       "      <th>Master</th>\n",
       "      <td>2.258889</td>\n",
       "    </tr>\n",
       "    <tr>\n",
       "      <th>Mr</th>\n",
       "      <td>32.768293</td>\n",
       "    </tr>\n",
       "    <tr>\n",
       "      <th>Officer</th>\n",
       "      <td>42.000000</td>\n",
       "    </tr>\n",
       "    <tr>\n",
       "      <th rowspan=\"2\" valign=\"top\">3</th>\n",
       "      <th>Master</th>\n",
       "      <td>5.350833</td>\n",
       "    </tr>\n",
       "    <tr>\n",
       "      <th>Mr</th>\n",
       "      <td>28.724891</td>\n",
       "    </tr>\n",
       "  </tbody>\n",
       "</table>\n",
       "</div>"
      ],
      "text/plain": [
       "                             Age\n",
       "Sex    Pclass Title             \n",
       "female 1      Miss     29.869565\n",
       "              Mrs      40.162162\n",
       "              Officer  49.000000\n",
       "              Royalty  33.000000\n",
       "       2      Miss     22.450000\n",
       "              Mrs      33.000000\n",
       "       3      Miss     16.123188\n",
       "              Mrs      33.515152\n",
       "male   1      Master    5.306667\n",
       "              Mr       41.664773\n",
       "              Officer  51.125000\n",
       "              Royalty  39.000000\n",
       "       2      Master    2.258889\n",
       "              Mr       32.768293\n",
       "              Officer  42.000000\n",
       "       3      Master    5.350833\n",
       "              Mr       28.724891"
      ]
     },
     "execution_count": 46,
     "metadata": {},
     "output_type": "execute_result"
    }
   ],
   "source": [
    "# average age split by Sex, Pclass and Title\n",
    "df_train[['Sex', 'Pclass', 'Title', 'Age']].groupby(['Sex', 'Pclass', 'Title']).mean()"
   ]
  },
  {
   "cell_type": "code",
   "execution_count": 47,
   "metadata": {
    "collapsed": true
   },
   "outputs": [],
   "source": [
    "# 177 missings are filled by the mean per Sex, Pclass and Title\n",
    "\n",
    "# impute age with the mean of the groups\n",
    "df_train['Age'].fillna(-1, inplace = True)\n",
    "\n",
    "grouped_means = df_train.groupby(['Sex', 'Pclass', 'Title']).Age.mean().to_frame().reset_index()\n",
    "\n",
    "genders = df_train['Sex'].unique()\n",
    "pclasses = df_train['Pclass'].unique()\n",
    "titles = df_train['Title'].unique()\n",
    "\n",
    "for index, row in df_train.iterrows():\n",
    "    if row['Age'] == -1:\n",
    "        for gender in genders:\n",
    "            for pclass in pclasses:\n",
    "                for title in titles:\n",
    "                    if ((row['Sex'] == gender) &\n",
    "                        (row['Pclass'] == pclass) &\n",
    "                        (row['Title'] == title)):\n",
    "\n",
    "                        mean = grouped_means[(grouped_means['Sex'] == gender) &\n",
    "                                                 (grouped_means['Pclass'] == pclass) &\n",
    "                                                 (grouped_means['Title'] == title)]\n",
    "                        df_train.loc[index, 'Age'] = mean['Age'].values[0]"
   ]
  },
  {
   "cell_type": "code",
   "execution_count": 48,
   "metadata": {},
   "outputs": [
    {
     "data": {
      "text/plain": [
       "20.338558    90\n",
       "10.583333    33\n",
       "24.000000    30\n",
       "22.000000    27\n",
       "18.000000    26\n",
       "28.000000    25\n",
       "19.000000    25\n",
       "30.000000    25\n",
       "21.000000    24\n",
       "25.000000    23\n",
       "36.000000    22\n",
       "29.000000    20\n",
       "33.763889    20\n",
       "26.000000    18\n",
       "32.000000    18\n",
       "35.000000    18\n",
       "27.000000    18\n",
       "31.000000    17\n",
       "16.000000    17\n",
       "20.000000    15\n",
       "34.000000    15\n",
       "23.000000    15\n",
       "33.000000    15\n",
       "39.000000    14\n",
       "17.000000    13\n",
       "40.000000    13\n",
       "42.000000    13\n",
       "45.000000    12\n",
       "38.000000    11\n",
       "4.000000     10\n",
       "             ..\n",
       "0.750000      2\n",
       "13.000000     2\n",
       "64.000000     2\n",
       "28.500000     2\n",
       "63.000000     2\n",
       "45.500000     2\n",
       "40.500000     2\n",
       "20.984375     2\n",
       "0.830000      2\n",
       "32.500000     2\n",
       "55.000000     2\n",
       "59.000000     2\n",
       "45.333333     1\n",
       "29.212766     1\n",
       "66.000000     1\n",
       "0.420000      1\n",
       "70.500000     1\n",
       "0.670000      1\n",
       "74.000000     1\n",
       "14.500000     1\n",
       "36.500000     1\n",
       "55.500000     1\n",
       "0.920000      1\n",
       "20.500000     1\n",
       "23.500000     1\n",
       "53.000000     1\n",
       "80.000000     1\n",
       "24.500000     1\n",
       "34.500000     1\n",
       "12.000000     1\n",
       "Name: Age, Length: 98, dtype: int64"
      ]
     },
     "execution_count": 48,
     "metadata": {},
     "output_type": "execute_result"
    }
   ],
   "source": [
    "df_train['Age'].value_counts(dropna = False)"
   ]
  },
  {
   "cell_type": "code",
   "execution_count": 49,
   "metadata": {
    "scrolled": true
   },
   "outputs": [
    {
     "data": {
      "image/png": "[encoded data removed]",
      "text/plain": [
       "<matplotlib.figure.Figure at 0x25ead5fd9e8>"
      ]
     },
     "metadata": {},
     "output_type": "display_data"
    }
   ],
   "source": [
    "figure = plt.figure(figsize = (15, 5))\n",
    "\n",
    "df_train['Age bins'] = pd.cut(df_train['Age'],\n",
    "                              bins = [0, 5, 10, 15, 20, 25, 30, 35, 40, 45, 50, 55, 60, 65, 80],\n",
    "                              labels = [  '0-5',  '5-10', '10-15', '15-20', '20-25', '25-30', '30-35', '35-40',\n",
    "                                        '40-45', '45-50', '50-55', '55-60', '60-65', '65-80'])\n",
    "df_train.groupby('Age bins').mean()['Survived'].plot(kind = 'bar')\n",
    "\n",
    "X = np.arange(14)\n",
    "Y = np.array(df_train.groupby('Age bins').mean()['Survived'].fillna(0))\n",
    "Z = np.array(pd.DataFrame(df_train['Age bins'].value_counts()).sort_index(ascending = True))\n",
    "\n",
    "ax = plt.gca()\n",
    "\n",
    "for a, b, c in zip(X, Y, Z): \n",
    "    plt.text(a, b + 0.05, str(c), ha = 'center', va = 'center')\n",
    "\n",
    "plt.ylim(0, 1)\n",
    "\n",
    "yticks_major = np.round(np.linspace(0, 1, 11), 1)\n",
    "yticks_major_str = (yticks_major * 100).astype(int).astype(str).tolist()\n",
    "yticks_labels = [x + ' %' for x in yticks_major_str]\n",
    "ax.set_yticks(yticks_major)\n",
    "ax.set_yticklabels(yticks_labels, fontsize = 10)\n",
    "\n",
    "plt.xlabel('Age')\n",
    "plt.ylabel('Survival rate')\n",
    "plt.show()"
   ]
  },
  {
   "cell_type": "markdown",
   "metadata": {},
   "source": [
    "* young passengers have a higher survival rate than the other passengers"
   ]
  },
  {
   "cell_type": "code",
   "execution_count": 50,
   "metadata": {
    "collapsed": true
   },
   "outputs": [],
   "source": [
    "# create a dummy for children\n",
    "df_train['Children'] = np.where(df_train['Age'] <= 15, 1, 0)"
   ]
  },
  {
   "cell_type": "code",
   "execution_count": 51,
   "metadata": {},
   "outputs": [
    {
     "data": {
      "text/plain": [
       "0    771\n",
       "1    120\n",
       "Name: Children, dtype: int64"
      ]
     },
     "execution_count": 51,
     "metadata": {},
     "output_type": "execute_result"
    }
   ],
   "source": [
    "df_train['Children'].value_counts(dropna = False)"
   ]
  },
  {
   "cell_type": "code",
   "execution_count": 52,
   "metadata": {
    "scrolled": true
   },
   "outputs": [
    {
     "data": {
      "text/plain": [
       "S      644\n",
       "C      168\n",
       "Q       77\n",
       "NaN      2\n",
       "Name: Embarked, dtype: int64"
      ]
     },
     "execution_count": 52,
     "metadata": {},
     "output_type": "execute_result"
    }
   ],
   "source": [
    "# port of Embarkation: C = Cherbourg, Q = Queenstown, S = Southampton\n",
    "df_train.Embarked.value_counts(dropna = False)"
   ]
  },
  {
   "cell_type": "code",
   "execution_count": 53,
   "metadata": {
    "collapsed": true
   },
   "outputs": [],
   "source": [
    "# fill missings in Embarked, S is the most common value amongst the non-missings\n",
    "df_train.Embarked.fillna('S', inplace = True)"
   ]
  },
  {
   "cell_type": "code",
   "execution_count": 54,
   "metadata": {},
   "outputs": [
    {
     "data": {
      "image/png": "[encoded data removed]",
      "text/plain": [
       "<matplotlib.figure.Figure at 0x25ead3619e8>"
      ]
     },
     "metadata": {},
     "output_type": "display_data"
    }
   ],
   "source": [
    "survived_embarked = df_train[df_train['Survived'] == 1]['Embarked'].value_counts()\n",
    "dead_embarked = df_train[df_train['Survived'] == 0]['Embarked'].value_counts()\n",
    "\n",
    "df = pd.DataFrame([survived_embarked, dead_embarked])\n",
    "df.index = ['Survived', 'Dead']\n",
    "\n",
    "df.plot(kind = 'bar', figsize = (10, 5))\n",
    "plt.show()"
   ]
  },
  {
   "cell_type": "code",
   "execution_count": 55,
   "metadata": {},
   "outputs": [
    {
     "data": {
      "image/png": "[encoded data removed]",
      "text/plain": [
       "<matplotlib.figure.Figure at 0x25eadab9438>"
      ]
     },
     "metadata": {},
     "output_type": "display_data"
    }
   ],
   "source": [
    "df_train.groupby('Embarked').mean()['Survived'].plot(kind = 'bar', figsize = (10, 5))\n",
    "\n",
    "ax = plt.gca()\n",
    "plt.ylim(0, 1)\n",
    "\n",
    "yticks_major = np.round(np.linspace(0, 1, 11), 1)\n",
    "yticks_major_str = (yticks_major * 100).astype(int).astype(str).tolist()\n",
    "yticks_labels = [x + ' %' for x in yticks_major_str]\n",
    "ax.set_yticks(yticks_major)\n",
    "ax.set_yticklabels(yticks_labels, fontsize = 10)\n",
    "\n",
    "plt.xlabel('Embarked')\n",
    "plt.ylabel('Survival rate')\n",
    "\n",
    "plt.show()"
   ]
  },
  {
   "cell_type": "markdown",
   "metadata": {},
   "source": [
    "* passengers who embarked in Cherbourg have a higher survival rate than the other passengers"
   ]
  },
  {
   "cell_type": "code",
   "execution_count": 56,
   "metadata": {},
   "outputs": [
    {
     "data": {
      "text/plain": [
       "U    687\n",
       "C     59\n",
       "B     47\n",
       "D     33\n",
       "E     32\n",
       "A     15\n",
       "F     13\n",
       "G      4\n",
       "T      1\n",
       "Name: Cabin, dtype: int64"
      ]
     },
     "execution_count": 56,
     "metadata": {},
     "output_type": "execute_result"
    }
   ],
   "source": [
    "# fill the missings in Cabin with 'U' (unknown)\n",
    "df_train['Cabin'].fillna('U', inplace = True)\n",
    "df_train['Cabin'] = df_train['Cabin'].map(lambda c : c[0])\n",
    "df_train['Cabin'].value_counts()"
   ]
  },
  {
   "cell_type": "code",
   "execution_count": 57,
   "metadata": {},
   "outputs": [
    {
     "data": {
      "image/png": "[encoded data removed]",
      "text/plain": [
       "<matplotlib.figure.Figure at 0x25eaef2de48>"
      ]
     },
     "metadata": {},
     "output_type": "display_data"
    }
   ],
   "source": [
    "survived_sex = df_train[df_train['Survived'] == 1]['Sex'].value_counts()\n",
    "dead_sex = df_train[df_train['Survived'] == 0]['Sex'].value_counts()\n",
    "\n",
    "df = pd.DataFrame([survived_sex, dead_sex])\n",
    "df.index = ['Survived', 'Dead']\n",
    "\n",
    "df.plot(kind = 'bar', figsize = (10,5))\n",
    "plt.show()"
   ]
  },
  {
   "cell_type": "markdown",
   "metadata": {},
   "source": [
    "* women are more likely to survive than men"
   ]
  },
  {
   "cell_type": "code",
   "execution_count": 58,
   "metadata": {},
   "outputs": [
    {
     "data": {
      "image/png": "[encoded data removed]",
      "text/plain": [
       "<matplotlib.figure.Figure at 0x25ead3078d0>"
      ]
     },
     "metadata": {},
     "output_type": "display_data"
    }
   ],
   "source": [
    "# create a new feature: family_size = number of siblings / spouses aboard + number of parents / children aboard the Titanic\n",
    "df_train['Family size'] = df_train['SibSp'] + df_train['Parch'] + 1\n",
    "\n",
    "figure = plt.figure(figsize = (15, 5))\n",
    "\n",
    "df_train.groupby('Family size').mean()['Survived'].plot(kind = 'bar')\n",
    "df_train['Family size'].value_counts()\n",
    "\n",
    "X = np.arange(9)\n",
    "Y = np.array(df_train.groupby('Family size').mean()['Survived'].fillna(0))\n",
    "Z = np.array(pd.DataFrame(df_train['Family size'].value_counts()).sort_index(ascending = True))\n",
    "\n",
    "ax = plt.gca()\n",
    "\n",
    "X, Y, Z\n",
    "for a, b, c in zip(X, Y, Z): \n",
    "    plt.text(a, b + 0.05, str(c), ha = 'center', va = 'center')\n",
    "\n",
    "plt.ylim(0, 1)\n",
    "\n",
    "yticks_major = np.round(np.linspace(0, 1, 11), 1)\n",
    "yticks_major_str = (yticks_major * 100).astype(int).astype(str).tolist()\n",
    "yticks_labels = [x + ' %' for x in yticks_major_str]\n",
    "ax.set_yticks(yticks_major)\n",
    "ax.set_yticklabels(yticks_labels, fontsize = 10)\n",
    "\n",
    "plt.xlabel('Family size')\n",
    "plt.ylabel('Survival rate')\n",
    "plt.show()"
   ]
  },
  {
   "cell_type": "markdown",
   "metadata": {},
   "source": [
    "* families of 2-4 have higher survival rates"
   ]
  },
  {
   "cell_type": "code",
   "execution_count": 59,
   "metadata": {},
   "outputs": [
    {
     "name": "stdout",
     "output_type": "stream",
     "text": [
      "<class 'pandas.core.frame.DataFrame'>\n",
      "RangeIndex: 891 entries, 0 to 890\n",
      "Data columns (total 35 columns):\n",
      "PassengerId        891 non-null int64\n",
      "Survived           891 non-null int64\n",
      "Pclass             891 non-null int64\n",
      "Name               891 non-null object\n",
      "Sex                891 non-null int64\n",
      "Age                891 non-null float64\n",
      "SibSp              891 non-null int64\n",
      "Parch              891 non-null int64\n",
      "Ticket             891 non-null object\n",
      "Fare               891 non-null float64\n",
      "Age bins           891 non-null category\n",
      "Children           891 non-null int32\n",
      "Family size        891 non-null int64\n",
      "Fare per person    891 non-null float64\n",
      "Family small       891 non-null int32\n",
      "Family medium      891 non-null int32\n",
      "Family large       891 non-null int32\n",
      "Embarked_C         891 non-null uint8\n",
      "Embarked_Q         891 non-null uint8\n",
      "Embarked_S         891 non-null uint8\n",
      "Cabin_A            891 non-null uint8\n",
      "Cabin_B            891 non-null uint8\n",
      "Cabin_C            891 non-null uint8\n",
      "Cabin_D            891 non-null uint8\n",
      "Cabin_E            891 non-null uint8\n",
      "Cabin_F            891 non-null uint8\n",
      "Cabin_G            891 non-null uint8\n",
      "Cabin_T            891 non-null uint8\n",
      "Cabin_U            891 non-null uint8\n",
      "Title_Master       891 non-null uint8\n",
      "Title_Miss         891 non-null uint8\n",
      "Title_Mr           891 non-null uint8\n",
      "Title_Mrs          891 non-null uint8\n",
      "Title_Officer      891 non-null uint8\n",
      "Title_Royalty      891 non-null uint8\n",
      "dtypes: category(1), float64(3), int32(4), int64(7), object(2), uint8(18)\n",
      "memory usage: 114.8+ KB\n"
     ]
    }
   ],
   "source": [
    "# create a new feature: fare per person\n",
    "df_train['Fare per person'] = df_train['Fare'] / df_train['Family size']\n",
    "\n",
    "# create dummies based on family size\n",
    "df_train[\"Family small\"] = (df_train[\"Family size\"] == 1).astype(int)\n",
    "df_train[\"Family medium\"] = ((df_train[\"Family size\"] >= 2) & (df_train[\"Family size\"] <= 4)).astype(int)\n",
    "df_train[\"Family large\"] = (df_train[\"Family size\"] >= 5).astype(int)\n",
    "\n",
    "# convert Sex to integer\n",
    "df_train['Sex'] = df_train['Sex'].map({'male': 1, 'female': 0})\n",
    "\n",
    "# convert categorical features into dummies\n",
    "feature_to_be_splitted = ['Embarked', 'Cabin', 'Title']\n",
    "df_train = pd.get_dummies(df_train, columns = feature_to_be_splitted)\n",
    "\n",
    "df_train.info()"
   ]
  },
  {
   "cell_type": "code",
   "execution_count": 60,
   "metadata": {},
   "outputs": [
    {
     "data": {
      "text/html": [
       "<div>\n",
       "<style>\n",
       "    .dataframe thead tr:only-child th {\n",
       "        text-align: right;\n",
       "    }\n",
       "\n",
       "    .dataframe thead th {\n",
       "        text-align: left;\n",
       "    }\n",
       "\n",
       "    .dataframe tbody tr th {\n",
       "        vertical-align: top;\n",
       "    }\n",
       "</style>\n",
       "<table border=\"1\" class=\"dataframe\">\n",
       "  <thead>\n",
       "    <tr style=\"text-align: right;\">\n",
       "      <th></th>\n",
       "      <th>PassengerId</th>\n",
       "      <th>Survived</th>\n",
       "      <th>Pclass</th>\n",
       "      <th>Sex</th>\n",
       "      <th>Age</th>\n",
       "      <th>SibSp</th>\n",
       "      <th>Parch</th>\n",
       "      <th>Fare</th>\n",
       "      <th>Children</th>\n",
       "      <th>Family size</th>\n",
       "      <th>...</th>\n",
       "      <th>Cabin_F</th>\n",
       "      <th>Cabin_G</th>\n",
       "      <th>Cabin_T</th>\n",
       "      <th>Cabin_U</th>\n",
       "      <th>Title_Master</th>\n",
       "      <th>Title_Miss</th>\n",
       "      <th>Title_Mr</th>\n",
       "      <th>Title_Mrs</th>\n",
       "      <th>Title_Officer</th>\n",
       "      <th>Title_Royalty</th>\n",
       "    </tr>\n",
       "  </thead>\n",
       "  <tbody>\n",
       "    <tr>\n",
       "      <th>0</th>\n",
       "      <td>1</td>\n",
       "      <td>0</td>\n",
       "      <td>3</td>\n",
       "      <td>1</td>\n",
       "      <td>22.0</td>\n",
       "      <td>1</td>\n",
       "      <td>0</td>\n",
       "      <td>7.2500</td>\n",
       "      <td>0</td>\n",
       "      <td>2</td>\n",
       "      <td>...</td>\n",
       "      <td>0</td>\n",
       "      <td>0</td>\n",
       "      <td>0</td>\n",
       "      <td>1</td>\n",
       "      <td>0</td>\n",
       "      <td>0</td>\n",
       "      <td>1</td>\n",
       "      <td>0</td>\n",
       "      <td>0</td>\n",
       "      <td>0</td>\n",
       "    </tr>\n",
       "    <tr>\n",
       "      <th>1</th>\n",
       "      <td>2</td>\n",
       "      <td>1</td>\n",
       "      <td>1</td>\n",
       "      <td>0</td>\n",
       "      <td>38.0</td>\n",
       "      <td>1</td>\n",
       "      <td>0</td>\n",
       "      <td>71.2833</td>\n",
       "      <td>0</td>\n",
       "      <td>2</td>\n",
       "      <td>...</td>\n",
       "      <td>0</td>\n",
       "      <td>0</td>\n",
       "      <td>0</td>\n",
       "      <td>0</td>\n",
       "      <td>0</td>\n",
       "      <td>0</td>\n",
       "      <td>0</td>\n",
       "      <td>1</td>\n",
       "      <td>0</td>\n",
       "      <td>0</td>\n",
       "    </tr>\n",
       "    <tr>\n",
       "      <th>2</th>\n",
       "      <td>3</td>\n",
       "      <td>1</td>\n",
       "      <td>3</td>\n",
       "      <td>0</td>\n",
       "      <td>26.0</td>\n",
       "      <td>0</td>\n",
       "      <td>0</td>\n",
       "      <td>7.9250</td>\n",
       "      <td>0</td>\n",
       "      <td>1</td>\n",
       "      <td>...</td>\n",
       "      <td>0</td>\n",
       "      <td>0</td>\n",
       "      <td>0</td>\n",
       "      <td>1</td>\n",
       "      <td>0</td>\n",
       "      <td>1</td>\n",
       "      <td>0</td>\n",
       "      <td>0</td>\n",
       "      <td>0</td>\n",
       "      <td>0</td>\n",
       "    </tr>\n",
       "    <tr>\n",
       "      <th>3</th>\n",
       "      <td>4</td>\n",
       "      <td>1</td>\n",
       "      <td>1</td>\n",
       "      <td>0</td>\n",
       "      <td>35.0</td>\n",
       "      <td>1</td>\n",
       "      <td>0</td>\n",
       "      <td>53.1000</td>\n",
       "      <td>0</td>\n",
       "      <td>2</td>\n",
       "      <td>...</td>\n",
       "      <td>0</td>\n",
       "      <td>0</td>\n",
       "      <td>0</td>\n",
       "      <td>0</td>\n",
       "      <td>0</td>\n",
       "      <td>0</td>\n",
       "      <td>0</td>\n",
       "      <td>1</td>\n",
       "      <td>0</td>\n",
       "      <td>0</td>\n",
       "    </tr>\n",
       "    <tr>\n",
       "      <th>4</th>\n",
       "      <td>5</td>\n",
       "      <td>0</td>\n",
       "      <td>3</td>\n",
       "      <td>1</td>\n",
       "      <td>35.0</td>\n",
       "      <td>0</td>\n",
       "      <td>0</td>\n",
       "      <td>8.0500</td>\n",
       "      <td>0</td>\n",
       "      <td>1</td>\n",
       "      <td>...</td>\n",
       "      <td>0</td>\n",
       "      <td>0</td>\n",
       "      <td>0</td>\n",
       "      <td>1</td>\n",
       "      <td>0</td>\n",
       "      <td>0</td>\n",
       "      <td>1</td>\n",
       "      <td>0</td>\n",
       "      <td>0</td>\n",
       "      <td>0</td>\n",
       "    </tr>\n",
       "  </tbody>\n",
       "</table>\n",
       "<p>5 rows × 32 columns</p>\n",
       "</div>"
      ],
      "text/plain": [
       "   PassengerId  Survived  Pclass  Sex   Age  SibSp  Parch     Fare  Children  \\\n",
       "0            1         0       3    1  22.0      1      0   7.2500         0   \n",
       "1            2         1       1    0  38.0      1      0  71.2833         0   \n",
       "2            3         1       3    0  26.0      0      0   7.9250         0   \n",
       "3            4         1       1    0  35.0      1      0  53.1000         0   \n",
       "4            5         0       3    1  35.0      0      0   8.0500         0   \n",
       "\n",
       "   Family size      ...        Cabin_F  Cabin_G  Cabin_T  Cabin_U  \\\n",
       "0            2      ...              0        0        0        1   \n",
       "1            2      ...              0        0        0        0   \n",
       "2            1      ...              0        0        0        1   \n",
       "3            2      ...              0        0        0        0   \n",
       "4            1      ...              0        0        0        1   \n",
       "\n",
       "   Title_Master  Title_Miss  Title_Mr  Title_Mrs  Title_Officer  Title_Royalty  \n",
       "0             0           0         1          0              0              0  \n",
       "1             0           0         0          1              0              0  \n",
       "2             0           1         0          0              0              0  \n",
       "3             0           0         0          1              0              0  \n",
       "4             0           0         1          0              0              0  \n",
       "\n",
       "[5 rows x 32 columns]"
      ]
     },
     "execution_count": 60,
     "metadata": {},
     "output_type": "execute_result"
    }
   ],
   "source": [
    "# Name, Ticket, Cabin and Age bins are considered irrelevant, so let's remove them from the dataset\n",
    "df_train.drop(['Name', 'Ticket', 'Age bins'], axis = 1, inplace = True)\n",
    "df_train.head()"
   ]
  },
  {
   "cell_type": "code",
   "execution_count": 61,
   "metadata": {
    "collapsed": true
   },
   "outputs": [],
   "source": [
    "df_train.set_index('PassengerId', inplace = True)"
   ]
  },
  {
   "cell_type": "code",
   "execution_count": 62,
   "metadata": {},
   "outputs": [
    {
     "name": "stdout",
     "output_type": "stream",
     "text": [
      "<class 'pandas.core.frame.DataFrame'>\n",
      "Int64Index: 891 entries, 1 to 891\n",
      "Data columns (total 31 columns):\n",
      "Survived           891 non-null int64\n",
      "Pclass             891 non-null int64\n",
      "Sex                891 non-null int64\n",
      "Age                891 non-null float64\n",
      "SibSp              891 non-null int64\n",
      "Parch              891 non-null int64\n",
      "Fare               891 non-null float64\n",
      "Children           891 non-null int32\n",
      "Family size        891 non-null int64\n",
      "Fare per person    891 non-null float64\n",
      "Family small       891 non-null int32\n",
      "Family medium      891 non-null int32\n",
      "Family large       891 non-null int32\n",
      "Embarked_C         891 non-null uint8\n",
      "Embarked_Q         891 non-null uint8\n",
      "Embarked_S         891 non-null uint8\n",
      "Cabin_A            891 non-null uint8\n",
      "Cabin_B            891 non-null uint8\n",
      "Cabin_C            891 non-null uint8\n",
      "Cabin_D            891 non-null uint8\n",
      "Cabin_E            891 non-null uint8\n",
      "Cabin_F            891 non-null uint8\n",
      "Cabin_G            891 non-null uint8\n",
      "Cabin_T            891 non-null uint8\n",
      "Cabin_U            891 non-null uint8\n",
      "Title_Master       891 non-null uint8\n",
      "Title_Miss         891 non-null uint8\n",
      "Title_Mr           891 non-null uint8\n",
      "Title_Mrs          891 non-null uint8\n",
      "Title_Officer      891 non-null uint8\n",
      "Title_Royalty      891 non-null uint8\n",
      "dtypes: float64(3), int32(4), int64(6), uint8(18)\n",
      "memory usage: 99.2 KB\n"
     ]
    }
   ],
   "source": [
    "df_train.info()"
   ]
  },
  {
   "cell_type": "markdown",
   "metadata": {},
   "source": [
    "Let's explore the importance of the features:"
   ]
  },
  {
   "cell_type": "code",
   "execution_count": 63,
   "metadata": {},
   "outputs": [
    {
     "data": {
      "image/png": "[encoded data removed]",
      "text/plain": [
       "<matplotlib.figure.Figure at 0x25eaf2b5588>"
      ]
     },
     "metadata": {},
     "output_type": "display_data"
    }
   ],
   "source": [
    "from sklearn.ensemble import RandomForestClassifier\n",
    "\n",
    "x = df_train.drop('Survived', axis = 1)\n",
    "y = df_train.Survived\n",
    "\n",
    "clf = RandomForestClassifier().fit(x, y)\n",
    "\n",
    "features = []\n",
    "\n",
    "for feature, importance in zip(x.columns, clf.feature_importances_):\n",
    "    features.append((importance, feature))\n",
    "\n",
    "features.sort(reverse = True)\n",
    "features_relevant = [x[1] for x in features if x[0] > 0]\n",
    "\n",
    "features = pd.DataFrame()\n",
    "\n",
    "features['feature'] = x.columns\n",
    "features['importance'] = clf.feature_importances_\n",
    "\n",
    "features.sort_values(by = ['importance'], ascending = True, inplace = True)\n",
    "features.set_index('feature', inplace = True)\n",
    "features.plot(kind = 'barh', figsize = (20, 20))\n",
    "plt.show()"
   ]
  },
  {
   "cell_type": "code",
   "execution_count": 64,
   "metadata": {},
   "outputs": [
    {
     "data": {
      "text/plain": [
       "['Age',\n",
       " 'Title_Mr',\n",
       " 'Fare per person',\n",
       " 'Fare',\n",
       " 'Sex',\n",
       " 'Pclass',\n",
       " 'Title_Miss',\n",
       " 'Cabin_U',\n",
       " 'Family size',\n",
       " 'Children',\n",
       " 'Title_Mrs',\n",
       " 'SibSp',\n",
       " 'Family medium',\n",
       " 'Embarked_C',\n",
       " 'Family large',\n",
       " 'Embarked_S',\n",
       " 'Family small',\n",
       " 'Parch',\n",
       " 'Title_Master',\n",
       " 'Cabin_E',\n",
       " 'Title_Officer',\n",
       " 'Cabin_D',\n",
       " 'Cabin_C',\n",
       " 'Cabin_B',\n",
       " 'Embarked_Q',\n",
       " 'Cabin_A',\n",
       " 'Cabin_F',\n",
       " 'Title_Royalty',\n",
       " 'Cabin_G']"
      ]
     },
     "execution_count": 64,
     "metadata": {},
     "output_type": "execute_result"
    }
   ],
   "source": [
    "# remove 'Cabin_T' because it's not present in the test set\n",
    "features_relevant.pop(-1)\n",
    "features_relevant"
   ]
  },
  {
   "cell_type": "markdown",
   "metadata": {},
   "source": [
    "Let's train a model based on a gridsearch:"
   ]
  },
  {
   "cell_type": "code",
   "execution_count": 76,
   "metadata": {},
   "outputs": [
    {
     "name": "stdout",
     "output_type": "stream",
     "text": [
      "Grid best parameter (max. accuracy):  {'bootstrap': True, 'max_depth': 5, 'min_samples_leaf': 3, 'n_estimators': 1500}\n",
      "Grid best score (accuracy):  0.83164983165\n"
     ]
    }
   ],
   "source": [
    "from sklearn.ensemble import RandomForestClassifier\n",
    "\n",
    "from sklearn.model_selection import GridSearchCV\n",
    "\n",
    "# RandomForestClassifier\n",
    "clf_RF = RandomForestClassifier()\n",
    "\n",
    "# define the parameters for the gridsearch\n",
    "grid_values = {\n",
    "               'max_depth': [4, 5, 6],\n",
    "               'min_samples_leaf': [2, 3, 4],\n",
    "               'bootstrap': [True, False],\n",
    "               'n_estimators': [1500]\n",
    "              }\n",
    "\n",
    "# default metric to optimize over grid parameters: accuracy\n",
    "grid_clf_RF_acc = GridSearchCV(clf_RF, param_grid = grid_values)\n",
    "grid_clf_RF_acc.fit(x[features_relevant], y)\n",
    "\n",
    "print('Grid best parameter (max. accuracy): ', grid_clf_RF_acc.best_params_)\n",
    "print('Grid best score (accuracy): ', grid_clf_RF_acc.best_score_)"
   ]
  },
  {
   "cell_type": "code",
   "execution_count": 77,
   "metadata": {},
   "outputs": [
    {
     "data": {
      "application/javascript": [
       "IPython.OutputArea.prototype._should_scroll = function(lines) {\n",
       "    return false;\n",
       "}"
      ],
      "text/plain": [
       "<IPython.core.display.Javascript object>"
      ]
     },
     "metadata": {},
     "output_type": "display_data"
    }
   ],
   "source": [
    "%%javascript\n",
    "IPython.OutputArea.prototype._should_scroll = function(lines) {\n",
    "    return false;\n",
    "}"
   ]
  },
  {
   "cell_type": "code",
   "execution_count": 78,
   "metadata": {},
   "outputs": [
    {
     "data": {
      "text/plain": [
       "[({'bootstrap': True,\n",
       "   'max_depth': 4,\n",
       "   'min_samples_leaf': 2,\n",
       "   'n_estimators': 1500},\n",
       "  0.84511784511784516,\n",
       "  0.82940516273849607),\n",
       " ({'bootstrap': True,\n",
       "   'max_depth': 4,\n",
       "   'min_samples_leaf': 3,\n",
       "   'n_estimators': 1500},\n",
       "  0.8456790123456791,\n",
       "  0.82940516273849607),\n",
       " ({'bootstrap': True,\n",
       "   'max_depth': 4,\n",
       "   'min_samples_leaf': 4,\n",
       "   'n_estimators': 1500},\n",
       "  0.84511784511784516,\n",
       "  0.82828282828282829),\n",
       " ({'bootstrap': True,\n",
       "   'max_depth': 5,\n",
       "   'min_samples_leaf': 2,\n",
       "   'n_estimators': 1500},\n",
       "  0.86026936026936018,\n",
       "  0.8271604938271605),\n",
       " ({'bootstrap': True,\n",
       "   'max_depth': 5,\n",
       "   'min_samples_leaf': 3,\n",
       "   'n_estimators': 1500},\n",
       "  0.85802469135802462,\n",
       "  0.83164983164983164),\n",
       " ({'bootstrap': True,\n",
       "   'max_depth': 5,\n",
       "   'min_samples_leaf': 4,\n",
       "   'n_estimators': 1500},\n",
       "  0.85690235690235683,\n",
       "  0.82491582491582494),\n",
       " ({'bootstrap': True,\n",
       "   'max_depth': 6,\n",
       "   'min_samples_leaf': 2,\n",
       "   'n_estimators': 1500},\n",
       "  0.87934904601571284,\n",
       "  0.83052749719416386),\n",
       " ({'bootstrap': True,\n",
       "   'max_depth': 6,\n",
       "   'min_samples_leaf': 3,\n",
       "   'n_estimators': 1500},\n",
       "  0.87037037037037035,\n",
       "  0.82828282828282829),\n",
       " ({'bootstrap': True,\n",
       "   'max_depth': 6,\n",
       "   'min_samples_leaf': 4,\n",
       "   'n_estimators': 1500},\n",
       "  0.86419753086419748,\n",
       "  0.82828282828282829),\n",
       " ({'bootstrap': False,\n",
       "   'max_depth': 4,\n",
       "   'min_samples_leaf': 2,\n",
       "   'n_estimators': 1500},\n",
       "  0.84680134680134689,\n",
       "  0.8271604938271605),\n",
       " ({'bootstrap': False,\n",
       "   'max_depth': 4,\n",
       "   'min_samples_leaf': 3,\n",
       "   'n_estimators': 1500},\n",
       "  0.84624017957351294,\n",
       "  0.8271604938271605),\n",
       " ({'bootstrap': False,\n",
       "   'max_depth': 4,\n",
       "   'min_samples_leaf': 4,\n",
       "   'n_estimators': 1500},\n",
       "  0.84455667789001121,\n",
       "  0.82603815937149272),\n",
       " ({'bootstrap': False,\n",
       "   'max_depth': 5,\n",
       "   'min_samples_leaf': 2,\n",
       "   'n_estimators': 1500},\n",
       "  0.86363636363636365,\n",
       "  0.82828282828282829),\n",
       " ({'bootstrap': False,\n",
       "   'max_depth': 5,\n",
       "   'min_samples_leaf': 3,\n",
       "   'n_estimators': 1500},\n",
       "  0.86139169472502797,\n",
       "  0.8271604938271605),\n",
       " ({'bootstrap': False,\n",
       "   'max_depth': 5,\n",
       "   'min_samples_leaf': 4,\n",
       "   'n_estimators': 1500},\n",
       "  0.85914702581369251,\n",
       "  0.82940516273849607),\n",
       " ({'bootstrap': False,\n",
       "   'max_depth': 6,\n",
       "   'min_samples_leaf': 2,\n",
       "   'n_estimators': 1500},\n",
       "  0.88383838383838376,\n",
       "  0.82940516273849607),\n",
       " ({'bootstrap': False,\n",
       "   'max_depth': 6,\n",
       "   'min_samples_leaf': 3,\n",
       "   'n_estimators': 1500},\n",
       "  0.87654320987654322,\n",
       "  0.82828282828282829),\n",
       " ({'bootstrap': False,\n",
       "   'max_depth': 6,\n",
       "   'min_samples_leaf': 4,\n",
       "   'n_estimators': 1500},\n",
       "  0.87149270482603824,\n",
       "  0.83164983164983164)]"
      ]
     },
     "execution_count": 78,
     "metadata": {},
     "output_type": "execute_result"
    }
   ],
   "source": [
    "scores_RF = []\n",
    "for params, train, test in zip(grid_clf_RF_acc.cv_results_['params'],\n",
    "                               list(grid_clf_RF_acc.cv_results_['mean_train_score']),\n",
    "                               list(grid_clf_RF_acc.cv_results_['mean_test_score'])):\n",
    "    scores_RF.append((params, train, test))\n",
    "scores_RF"
   ]
  },
  {
   "cell_type": "markdown",
   "metadata": {},
   "source": [
    "* best model is a random forest with bootstrap = True, max_depth = 5, min_samples_leaf = 3 and n_estimators = 1500"
   ]
  },
  {
   "cell_type": "code",
   "execution_count": 79,
   "metadata": {},
   "outputs": [
    {
     "name": "stdout",
     "output_type": "stream",
     "text": [
      "<class 'pandas.core.frame.DataFrame'>\n",
      "Int64Index: 418 entries, 892 to 1309\n",
      "Data columns (total 15 columns):\n",
      "Pclass             418 non-null int64\n",
      "Sex                418 non-null object\n",
      "Age                332 non-null float64\n",
      "SibSp              418 non-null int64\n",
      "Parch              418 non-null int64\n",
      "Fare               418 non-null float64\n",
      "Cabin              418 non-null object\n",
      "Embarked           418 non-null object\n",
      "Survived           418 non-null int64\n",
      "Title              418 non-null object\n",
      "Family size        418 non-null int64\n",
      "Fare per person    418 non-null float64\n",
      "Family small       418 non-null int32\n",
      "Family medium      418 non-null int32\n",
      "Family large       418 non-null int32\n",
      "dtypes: float64(3), int32(3), int64(5), object(4)\n",
      "memory usage: 47.4+ KB\n"
     ]
    }
   ],
   "source": [
    "df_test = pd.read_csv('data/test.csv')\n",
    "\n",
    "# create title\n",
    "df_test['Title'] = df_test['Name'].map(lambda x: substrings_in_string(x, title_list))\n",
    "df_test['Title'] = df_test.apply(replace_titles, axis = 1)\n",
    "\n",
    "# imputation of fare\n",
    "df_test['Fare'].fillna(df_test['Fare'].mean(), inplace = True)\n",
    "\n",
    "# create family size\n",
    "df_test['Family size'] = df_test['SibSp'] + df_test['Parch'] + 1\n",
    "\n",
    "# create a new feature: fare per person\n",
    "df_test['Fare per person'] = df_test['Fare'] / df_test['Family size']\n",
    "\n",
    "# create dummies based on family size\n",
    "df_test[\"Family small\"] = (df_test[\"Family size\"] == 1).astype(int)\n",
    "df_test[\"Family medium\"] = ((df_test[\"Family size\"] >= 2) & (df_test[\"Family size\"] <= 4)).astype(int)\n",
    "df_test[\"Family large\"] = (df_test[\"Family size\"] >= 5).astype(int)\n",
    "\n",
    "# fill the missings in Cabin with 'U' (unknown)\n",
    "df_test['Cabin'].fillna('U', inplace = True)\n",
    "df_test['Cabin'] = df_test['Cabin'].map(lambda c : c[0])\n",
    "\n",
    "# Name, Ticket and Cabin are considered irrelevant, so let's remove it from the dataset\n",
    "df_test.drop(['Name', 'Ticket'], axis = 1, inplace = True)\n",
    "\n",
    "df_test.set_index('PassengerId', inplace = True)\n",
    "\n",
    "df_test.info()"
   ]
  },
  {
   "cell_type": "code",
   "execution_count": 80,
   "metadata": {
    "collapsed": true
   },
   "outputs": [],
   "source": [
    "# impute age with the mean of the groups based on the training data\n",
    "df_test['Age'].fillna(-1, inplace = True)\n",
    "\n",
    "genders = df_test['Sex'].unique()\n",
    "pclasses = df_test['Pclass'].unique()\n",
    "titles = df_test['Title'].unique()\n",
    "\n",
    "for index, row in df_test.iterrows():\n",
    "    if row['Age'] == -1:\n",
    "        for gender in genders:\n",
    "            for pclass in pclasses:\n",
    "                for title in titles:\n",
    "                    if ((row['Sex'] == gender) &\n",
    "                        (row['Pclass'] == pclass) &\n",
    "                        (row['Title'] == title)):\n",
    "\n",
    "                        mean = grouped_means[(grouped_means['Sex'] == gender) &\n",
    "                                             (grouped_means['Pclass'] == pclass) &\n",
    "                                             (grouped_means['Title'] == title)]\n",
    "                        df_test.loc[index, 'Age'] = mean['Age'].values[0]"
   ]
  },
  {
   "cell_type": "code",
   "execution_count": 81,
   "metadata": {},
   "outputs": [
    {
     "data": {
      "text/plain": [
       "20.338558    46\n",
       "21.000000    17\n",
       "24.000000    17\n",
       "22.000000    16\n",
       "30.000000    15\n",
       "10.583333    14\n",
       "18.000000    13\n",
       "27.000000    12\n",
       "26.000000    12\n",
       "25.000000    11\n",
       "23.000000    11\n",
       "29.000000    10\n",
       "36.000000     9\n",
       "45.000000     9\n",
       "26.119048     8\n",
       "20.000000     8\n",
       "33.000000     7\n",
       "33.763889     7\n",
       "17.000000     7\n",
       "28.000000     7\n",
       "55.000000     6\n",
       "32.000000     6\n",
       "31.000000     6\n",
       "39.000000     6\n",
       "50.000000     5\n",
       "48.000000     5\n",
       "42.000000     5\n",
       "47.000000     5\n",
       "41.000000     5\n",
       "40.000000     5\n",
       "             ..\n",
       "63.000000     2\n",
       "2.000000      2\n",
       "54.000000     2\n",
       "22.500000     1\n",
       "62.000000     1\n",
       "76.000000     1\n",
       "28.500000     1\n",
       "67.000000     1\n",
       "0.830000      1\n",
       "0.920000      1\n",
       "0.170000      1\n",
       "38.500000     1\n",
       "3.000000      1\n",
       "51.000000     1\n",
       "5.000000      1\n",
       "44.000000     1\n",
       "14.500000     1\n",
       "59.000000     1\n",
       "58.000000     1\n",
       "0.330000      1\n",
       "0.750000      1\n",
       "36.500000     1\n",
       "40.500000     1\n",
       "11.500000     1\n",
       "34.000000     1\n",
       "15.000000     1\n",
       "7.000000      1\n",
       "60.500000     1\n",
       "26.500000     1\n",
       "34.500000     1\n",
       "Name: Age, Length: 86, dtype: int64"
      ]
     },
     "execution_count": 81,
     "metadata": {},
     "output_type": "execute_result"
    }
   ],
   "source": [
    "df_test['Age'].value_counts(dropna = False)"
   ]
  },
  {
   "cell_type": "code",
   "execution_count": 82,
   "metadata": {
    "collapsed": true
   },
   "outputs": [],
   "source": [
    "# create a dummy for children\n",
    "df_test['Children'] = np.where(df_test['Age'] <= 15, 1, 0)"
   ]
  },
  {
   "cell_type": "code",
   "execution_count": 83,
   "metadata": {
    "collapsed": true
   },
   "outputs": [],
   "source": [
    "# convert Sex to integer\n",
    "df_test['Sex'] = df_test['Sex'].map({'male': 1, 'female': 0})\n",
    "\n",
    "# convert categorical features into dummies\n",
    "df_test = pd.get_dummies(df_test, columns = feature_to_be_splitted)"
   ]
  },
  {
   "cell_type": "code",
   "execution_count": 84,
   "metadata": {
    "collapsed": true
   },
   "outputs": [],
   "source": [
    "x_test = df_test[features_relevant]"
   ]
  },
  {
   "cell_type": "code",
   "execution_count": 85,
   "metadata": {
    "collapsed": true
   },
   "outputs": [],
   "source": [
    "clf_RF = RandomForestClassifier(max_depth = 5, min_samples_leaf = 3, n_estimators = 1500, bootstrap = True).fit(x[features_relevant], y)\n",
    "df_test['y_pred'] = clf_RF.predict(x_test)"
   ]
  },
  {
   "cell_type": "code",
   "execution_count": null,
   "metadata": {
    "collapsed": true
   },
   "outputs": [],
   "source": []
  }
 ],
 "metadata": {
  "kernelspec": {
   "display_name": "Python 3",
   "language": "python",
   "name": "python3"
  },
  "language_info": {
   "codemirror_mode": {
    "name": "ipython",
    "version": 3
   },
   "file_extension": ".py",
   "mimetype": "text/x-python",
   "name": "python",
   "nbconvert_exporter": "python",
   "pygments_lexer": "ipython3",
   "version": "3.6.1"
  }
 },
 "nbformat": 4,
 "nbformat_minor": 2
}
